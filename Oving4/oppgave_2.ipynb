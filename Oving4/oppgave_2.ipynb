{
 "cells": [
  {
   "cell_type": "code",
   "execution_count": 61,
   "metadata": {
    "collapsed": true
   },
   "outputs": [],
   "source": [
    "import numpy as np\n",
    "import torch\n",
    "import torch.nn as nn"
   ]
  },
  {
   "cell_type": "code",
   "execution_count": 62,
   "outputs": [],
   "source": [
    "class LongShortTermMemoryModel(nn.Module):\n",
    "\n",
    "    def __init__(self, encoding_size):\n",
    "        super(LongShortTermMemoryModel, self).__init__()\n",
    "\n",
    "        self.lstm = nn.LSTM(encoding_size, 128)  # 128 is the state size\n",
    "        self.dense = nn.Linear(128, encoding_size)  # 128 is the state size\n",
    "\n",
    "    def reset(self):  # Reset states prior to new input sequence\n",
    "        zero_state = torch.zeros(1, 1, 128)  # Shape: (number of layers, batch size, state size)\n",
    "        self.hidden_state = zero_state\n",
    "        self.cell_state = zero_state\n",
    "\n",
    "    def logits(self, x):  # x shape: (sequence length, batch size, encoding size)\n",
    "        out, (self.hidden_state, self.cell_state) = self.lstm(x, (self.hidden_state, self.cell_state))\n",
    "        return self.dense(out.reshape(-1, 128))\n",
    "\n",
    "    def f(self, x):  # x shape: (sequence length, batch size, encoding size)\n",
    "        return torch.softmax(self.logits(x), dim=1)\n",
    "\n",
    "    def loss(self, x, y):  # x shape: (sequence length, batch size, encoding size), y shape: (sequence length, encoding size)\n",
    "        return nn.functional.cross_entropy(self.logits(x), y.argmax(1))"
   ],
   "metadata": {
    "collapsed": false,
    "pycharm": {
     "name": "#%%\n"
    }
   }
  },
  {
   "cell_type": "code",
   "execution_count": 1,
   "outputs": [
    {
     "ename": "NameError",
     "evalue": "name 'np' is not defined",
     "output_type": "error",
     "traceback": [
      "\u001B[1;31m---------------------------------------------------------------------------\u001B[0m",
      "\u001B[1;31mNameError\u001B[0m                                 Traceback (most recent call last)",
      "\u001B[1;32m~\\AppData\\Local\\Temp\\ipykernel_18892\\990029004.py\u001B[0m in \u001B[0;36m<cell line: 3>\u001B[1;34m()\u001B[0m\n\u001B[0;32m      1\u001B[0m \u001B[1;31m##Many to one\u001B[0m\u001B[1;33m\u001B[0m\u001B[1;33m\u001B[0m\u001B[0m\n\u001B[0;32m      2\u001B[0m \u001B[0mindex_to_char\u001B[0m \u001B[1;33m=\u001B[0m \u001B[1;33m[\u001B[0m\u001B[1;34m' '\u001B[0m\u001B[1;33m,\u001B[0m \u001B[1;34m'h'\u001B[0m\u001B[1;33m,\u001B[0m \u001B[1;34m'a'\u001B[0m\u001B[1;33m,\u001B[0m \u001B[1;34m't'\u001B[0m\u001B[1;33m,\u001B[0m \u001B[1;34m'r'\u001B[0m\u001B[1;33m,\u001B[0m \u001B[1;34m'c'\u001B[0m\u001B[1;33m,\u001B[0m \u001B[1;34m'b'\u001B[0m\u001B[1;33m,\u001B[0m \u001B[1;34m'n'\u001B[0m\u001B[1;33m,\u001B[0m \u001B[1;34m'k'\u001B[0m\u001B[1;33m,\u001B[0m \u001B[1;34m'o'\u001B[0m\u001B[1;33m,\u001B[0m \u001B[1;34m'l'\u001B[0m\u001B[1;33m,\u001B[0m \u001B[1;34m'v'\u001B[0m\u001B[1;33m,\u001B[0m \u001B[1;34m'p'\u001B[0m\u001B[1;33m,\u001B[0m \u001B[1;34m'u'\u001B[0m\u001B[1;33m]\u001B[0m\u001B[1;33m\u001B[0m\u001B[1;33m\u001B[0m\u001B[0m\n\u001B[1;32m----> 3\u001B[1;33m \u001B[0mchar_encodings\u001B[0m \u001B[1;33m=\u001B[0m \u001B[0mnp\u001B[0m\u001B[1;33m.\u001B[0m\u001B[0midentity\u001B[0m\u001B[1;33m(\u001B[0m\u001B[0mlen\u001B[0m\u001B[1;33m(\u001B[0m\u001B[0mindex_to_char\u001B[0m\u001B[1;33m)\u001B[0m\u001B[1;33m,\u001B[0m \u001B[0mdtype\u001B[0m\u001B[1;33m=\u001B[0m\u001B[0mfloat\u001B[0m\u001B[1;33m)\u001B[0m\u001B[1;33m.\u001B[0m\u001B[0mtolist\u001B[0m\u001B[1;33m(\u001B[0m\u001B[1;33m)\u001B[0m\u001B[1;33m\u001B[0m\u001B[1;33m\u001B[0m\u001B[0m\n\u001B[0m\u001B[0;32m      4\u001B[0m \u001B[1;33m\u001B[0m\u001B[0m\n\u001B[0;32m      5\u001B[0m emoji = {\n",
      "\u001B[1;31mNameError\u001B[0m: name 'np' is not defined"
     ]
    }
   ],
   "source": [
    "##Many to one\n",
    "index_to_char = [' ', 'h', 'a', 't', 'r', 'c', 'b', 'n', 'k', 'o', 'l', 'v', 'p', 'u']\n",
    "char_encodings = np.identity(len(index_to_char), dtype=float).tolist()\n",
    "\n",
    "emoji = {\n",
    "    \"hat\": [\"\\U0001F3A9\", \"hat \"],\n",
    "    \"rat\":[\"\\U0001F401\", \"rat \"],\n",
    "    \"cat\":[\"\\U0001F408\", \"cat \"],\n",
    "    \"bank\":[\"\\U0001F3E6\", \"bank\"],\n",
    "    \"olav\":[\"\\U0001F468\", \"olav\"],\n",
    "    \"cap\":[\"\\U0001F9E2\", \"cap \"],\n",
    "    \"knut\" :[\"\\U0001F349\", \"knut\"]\n",
    "}\n",
    "\n",
    "\n",
    "def emoji_index(y: int):\n",
    "    i = 0\n",
    "    for value in emoji.values():\n",
    "        if i == y:\n",
    "            return value[0]\n",
    "        i += 1\n",
    "\n",
    "#print(emojies)\n",
    "emojies = np.eye(len(emoji))\n",
    "encoding_size = len(char_encodings)\n",
    "\n",
    "\n",
    "\n",
    "letter_dict = {index_to_char[i]: i for i in range(0, len(index_to_char))}\n",
    "\n",
    "def letter(x: str):\n",
    "    char = char_encodings[letter_dict[x]]\n",
    "    return char\n",
    "\n",
    "print(len(index_to_char))\n",
    "x_train = torch.tensor([\n",
    "                       [[letter('h')], [letter('a')], [letter('t')],[letter(' ')]],\n",
    "                       [[letter('r')], [letter('a')], [letter('t')],[letter(' ')]],\n",
    "                       [[letter('c')], [letter('a')], [letter('t')],[letter(' ')]],\n",
    "                       [[letter('b')], [letter('a')], [letter('n')],[letter('k')]],\n",
    "                       [[letter('o')], [letter('l')], [letter('a')],[letter('v')]],\n",
    "                       [[letter('c')], [letter('a')], [letter('p')],[letter(' ')]],\n",
    "                       [[letter('k')], [letter('n')], [letter('u')],[letter('t')]],\n",
    "                        ], dtype=torch.float)\n",
    "y_train = torch.tensor([\n",
    "                        [emojies[0], emojies[0], emojies[0], emojies[0]],\n",
    "                        [emojies[1], emojies[1], emojies[1], emojies[1]],\n",
    "                        [emojies[2], emojies[2], emojies[2], emojies[2]],\n",
    "                        [emojies[3], emojies[3], emojies[3], emojies[3]],\n",
    "                        [emojies[4], emojies[4], emojies[4], emojies[4]],\n",
    "                        [emojies[5], emojies[5], emojies[5], emojies[5]],\n",
    "                        [emojies[6], emojies[6], emojies[6], emojies[6]]\n",
    "                       ], dtype=torch.float)\n",
    "\n",
    "\n",
    "model = LongShortTermMemoryModel(encoding_size)"
   ],
   "metadata": {
    "collapsed": false,
    "pycharm": {
     "name": "#%%\n"
    }
   }
  },
  {
   "cell_type": "code",
   "execution_count": 113,
   "outputs": [],
   "source": [
    "optimizer = torch.optim.RMSprop(model.parameters(), 0.001)\n",
    "for epoch in range(500):\n",
    "    for i in range(x_train.size()[0]):#Loops for each letter to emoji\n",
    "        model.reset()\n",
    "        model.loss(x_train[i], y_train[i]).backward()\n",
    "        optimizer.step()\n",
    "        optimizer.zero_grad()\n"
   ],
   "metadata": {
    "collapsed": false,
    "pycharm": {
     "name": "#%%\n"
    }
   }
  },
  {
   "cell_type": "code",
   "execution_count": 118,
   "outputs": [
    {
     "name": "stdout",
     "output_type": "stream",
     "text": [
      "🍉\n"
     ]
    }
   ],
   "source": [
    "def get_emoji(emo: str):\n",
    "    y = -1\n",
    "    model.reset()\n",
    "    for i in range(len(emo)):\n",
    "        char_i = index_to_char.index(emo[i])\n",
    "        y = model.f(torch.tensor([[char_encodings[char_i]]]))\n",
    "    print(emoji_index(y.argmax(1)))\n",
    "\n",
    "get_emoji(\"knut\")\n"
   ],
   "metadata": {
    "collapsed": false,
    "pycharm": {
     "name": "#%%\n"
    }
   }
  }
 ],
 "metadata": {
  "kernelspec": {
   "display_name": "Python 3",
   "language": "python",
   "name": "python3"
  },
  "language_info": {
   "codemirror_mode": {
    "name": "ipython",
    "version": 2
   },
   "file_extension": ".py",
   "mimetype": "text/x-python",
   "name": "python",
   "nbconvert_exporter": "python",
   "pygments_lexer": "ipython2",
   "version": "2.7.6"
  }
 },
 "nbformat": 4,
 "nbformat_minor": 0
}