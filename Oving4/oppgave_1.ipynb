{
 "cells": [
  {
   "cell_type": "code",
   "execution_count": 6,
   "metadata": {
    "collapsed": true
   },
   "outputs": [],
   "source": [
    "import numpy as np\n",
    "import torch\n",
    "import torch.nn as nn"
   ]
  },
  {
   "cell_type": "code",
   "execution_count": 2,
   "outputs": [],
   "source": [
    "class LongShortTermMemoryModel(nn.Module):\n",
    "\n",
    "    def __init__(self, encoding_size):\n",
    "        super(LongShortTermMemoryModel, self).__init__()\n",
    "\n",
    "        self.lstm = nn.LSTM(encoding_size, 128)  # 128 is the state size\n",
    "        self.dense = nn.Linear(128, encoding_size)  # 128 is the state size\n",
    "\n",
    "    def reset(self):  # Reset states prior to new input sequence\n",
    "        zero_state = torch.zeros(1, 1, 128)  # Shape: (number of layers, batch size, state size)\n",
    "        self.hidden_state = zero_state\n",
    "        self.cell_state = zero_state\n",
    "\n",
    "    def logits(self, x):  # x shape: (sequence length, batch size, encoding size)\n",
    "        out, (self.hidden_state, self.cell_state) = self.lstm(x, (self.hidden_state, self.cell_state))\n",
    "        return self.dense(out.reshape(-1, 128))\n",
    "\n",
    "    def f(self, x):  # x shape: (sequence length, batch size, encoding size)\n",
    "        return torch.softmax(self.logits(x), dim=1)\n",
    "\n",
    "    def loss(self, x, y):  # x shape: (sequence length, batch size, encoding size), y shape: (sequence length, encoding size)\n",
    "        return nn.functional.cross_entropy(self.logits(x), y.argmax(1))\n"
   ],
   "metadata": {
    "collapsed": false,
    "pycharm": {
     "name": "#%%\n"
    }
   }
  },
  {
   "cell_type": "code",
   "execution_count": 21,
   "outputs": [],
   "source": [
    "char_encodings = [\n",
    "    [1., 0., 0., 0., 0.],  # ' '\n",
    "    [0., 1., 0., 0., 0.],  # 'h'\n",
    "    [0., 0., 1., 0., 0.],  # 'e'\n",
    "    [0., 0., 0., 1., 0.],  # 'l'\n",
    "    [0., 0., 0., 0., 1.],  # 'o'\n",
    "]\n",
    "\n",
    "char_encodings = np.identity(8, dtype=float).tolist()\n",
    "\n",
    "encoding_size = len(char_encodings)\n",
    "index_to_char = [' ', 'h', 'e', 'l', 'o', 'w', 'r', 'd']\n",
    "\n",
    "x_train = torch.tensor([[char_encodings[0]], [char_encodings[1]], [char_encodings[2]], [char_encodings[3]], [char_encodings[3]],\n",
    "                        [char_encodings[4]], [char_encodings[0]], [char_encodings[5]], [char_encodings[4]], [char_encodings[6]],\n",
    "                        [char_encodings[3]], [char_encodings[7]]])  # ' hello'\n",
    "y_train = torch.tensor([char_encodings[1], char_encodings[2], char_encodings[3], char_encodings[3], char_encodings[4], char_encodings[0],\n",
    "                       char_encodings[5], char_encodings[4], char_encodings[6], char_encodings[3], char_encodings[7], char_encodings[0]])  # 'hello '\n",
    "\n",
    "model = LongShortTermMemoryModel(encoding_size)\n"
   ],
   "metadata": {
    "collapsed": false,
    "pycharm": {
     "name": "#%%\n"
    }
   }
  },
  {
   "cell_type": "code",
   "execution_count": 23,
   "outputs": [
    {
     "name": "stdout",
     "output_type": "stream",
     "text": [
      " hello wordd heello wordd hello wordd hello wordd hel\n",
      " hello world   hello world  helll  world  helll  worl\n",
      " hello world   helld world   hello world   hello worl\n",
      " hello world   rlld world  orlld world  wrlll  wrrld \n",
      " hello world   rlld world  orlld world  wrlld world  \n",
      " hello world  orld  orld  world  orld  wrlld world  o\n",
      " hello world  orld  orld  wrlld world  orlld world  o\n",
      " hello world  orld  orld  wrldd world  orlld world  o\n",
      " hello world  orld  orld  wrld  world  orld  world wo\n",
      " hello world  orld world world  orlld world  orlld wo\n",
      " hello world  orld world world  orld  world world  or\n",
      " hello world  orld world world  orld  world world  or\n",
      " hello world  orld world world  orld  world world wor\n",
      " hello world  orld world world  orld  world world wor\n",
      " hello world  orld world world world  orld  world wor\n",
      " hello world  orld world world world  orld  world wor\n",
      " hello world  orld world world world  orld  world wor\n",
      " hello world  orld world world world world  orld  wor\n",
      " hello world  orld world world world world world  orl\n",
      " hello world  orld world world world world world worl\n",
      " hello world  orld world world world world world worl\n",
      " hello world  orld world world world world world worl\n",
      " hello world world world world world world world worl\n",
      " hello world world world world world world world worl\n",
      " hello world world world world world world world worl\n",
      " hello world world world world world world world worl\n",
      " hello world world world world world world world worl\n",
      " hello world world world world world world world worl\n",
      " hello world world world world world world world worl\n",
      " hello world world world world world world world worl\n",
      " hello world world world world world world world worl\n",
      " hello world world world world world world world worl\n",
      " hello world world world world world world world worl\n",
      " hello world world world world world world world worl\n",
      " hello world world world world world world world worl\n",
      " hello world world world world world world world worl\n",
      " hello world world world world world world world worl\n",
      " hello world world world world world world world worl\n",
      " hello world world world world world world world worl\n",
      " hello world world world world world world world worl\n",
      " hello world world world world world world world worl\n",
      " hello world world world world world world world worl\n",
      " hello world world world world world world world worl\n",
      " hello world world world world world world world worl\n",
      " hello world world world world world world world worl\n",
      " hello world world world world world world world worl\n",
      " hello world world world world world world world worl\n",
      " hello world world world world world world world worl\n",
      " hello world world world world world world world worl\n",
      " hello world world world world world world world worl\n"
     ]
    }
   ],
   "source": [
    "optimizer = torch.optim.RMSprop(model.parameters(), 0.001)\n",
    "for epoch in range(500):\n",
    "    model.reset()\n",
    "    model.loss(x_train, y_train).backward()\n",
    "    optimizer.step()\n",
    "    optimizer.zero_grad()\n",
    "\n",
    "    if epoch % 10 == 9:\n",
    "        # Generate characters from the initial characters ' h'\n",
    "        model.reset()\n",
    "        text = ' h'\n",
    "        model.f(torch.tensor([[char_encodings[0]]]))\n",
    "        y = model.f(torch.tensor([[char_encodings[1]]]))\n",
    "        text += index_to_char[y.argmax(1)]\n",
    "        for c in range(50):\n",
    "            y = model.f(torch.tensor([[char_encodings[y.argmax(1)]]]))\n",
    "            text += index_to_char[y.argmax(1)]\n",
    "        print(text)\n",
    "\n"
   ],
   "metadata": {
    "collapsed": false,
    "pycharm": {
     "name": "#%%\n"
    }
   }
  }
 ],
 "metadata": {
  "kernelspec": {
   "display_name": "Python 3",
   "language": "python",
   "name": "python3"
  },
  "language_info": {
   "codemirror_mode": {
    "name": "ipython",
    "version": 2
   },
   "file_extension": ".py",
   "mimetype": "text/x-python",
   "name": "python",
   "nbconvert_exporter": "python",
   "pygments_lexer": "ipython2",
   "version": "2.7.6"
  }
 },
 "nbformat": 4,
 "nbformat_minor": 0
}