{
 "cells": [
  {
   "cell_type": "code",
   "execution_count": 2,
   "metadata": {
    "collapsed": true
   },
   "outputs": [],
   "source": [
    "import numpy as np\n",
    "import torch\n",
    "import torch.nn as nn"
   ]
  },
  {
   "cell_type": "code",
   "execution_count": 3,
   "outputs": [],
   "source": [
    "class LongShortTermMemoryModel(nn.Module):\n",
    "\n",
    "    def __init__(self, encoding_size):\n",
    "        super(LongShortTermMemoryModel, self).__init__()\n",
    "\n",
    "        self.lstm = nn.LSTM(encoding_size, 128)  # 128 is the state size\n",
    "        self.dense = nn.Linear(128, encoding_size)  # 128 is the state size\n",
    "\n",
    "    def reset(self):  # Reset states prior to new input sequence\n",
    "        zero_state = torch.zeros(1, 1, 128)  # Shape: (number of layers, batch size, state size)\n",
    "        self.hidden_state = zero_state\n",
    "        self.cell_state = zero_state\n",
    "\n",
    "    def logits(self, x):  # x shape: (sequence length, batch size, encoding size)\n",
    "        out, (self.hidden_state, self.cell_state) = self.lstm(x, (self.hidden_state, self.cell_state))\n",
    "        return self.dense(out.reshape(-1, 128))\n",
    "\n",
    "    def f(self, x):  # x shape: (sequence length, batch size, encoding size)\n",
    "        return torch.softmax(self.logits(x), dim=1)\n",
    "\n",
    "    def loss(self, x, y):  # x shape: (sequence length, batch size, encoding size), y shape: (sequence length, encoding size)\n",
    "        return nn.functional.cross_entropy(self.logits(x), y.argmax(1))\n"
   ],
   "metadata": {
    "collapsed": false,
    "pycharm": {
     "name": "#%%\n"
    }
   }
  },
  {
   "cell_type": "code",
   "execution_count": 4,
   "outputs": [
    {
     "name": "stdout",
     "output_type": "stream",
     "text": [
      "torch.Size([12, 1, 8])\n",
      "torch.Size([12, 8])\n"
     ]
    }
   ],
   "source": [
    "char_encodings = np.identity(8, dtype=float).tolist()\n",
    "\n",
    "encoding_size = len(char_encodings)\n",
    "index_to_char = [' ', 'h', 'e', 'l', 'o', 'w', 'r', 'd']\n",
    "\n",
    "x_train = torch.tensor([[char_encodings[0]], [char_encodings[1]], [char_encodings[2]], [char_encodings[3]], [char_encodings[3]],\n",
    "                        [char_encodings[4]], [char_encodings[0]], [char_encodings[5]], [char_encodings[4]], [char_encodings[6]],\n",
    "                        [char_encodings[3]], [char_encodings[7]]])  # ' hello'\n",
    "y_train = torch.tensor([char_encodings[1], char_encodings[2], char_encodings[3], char_encodings[3], char_encodings[4], char_encodings[0],\n",
    "                       char_encodings[5], char_encodings[4], char_encodings[6], char_encodings[3], char_encodings[7], char_encodings[0]])  # 'hello '\n",
    "\n",
    "model = LongShortTermMemoryModel(encoding_size)\n",
    "print(x_train.shape)\n",
    "print(y_train.shape)"
   ],
   "metadata": {
    "collapsed": false,
    "pycharm": {
     "name": "#%%\n"
    }
   }
  },
  {
   "cell_type": "code",
   "execution_count": 34,
   "outputs": [
    {
     "name": "stdout",
     "output_type": "stream",
     "text": [
      " hello world world world world world world world worl\n",
      " hello world world world world world world world worl\n",
      " hello world world world world world world world worl\n",
      " hello world world world world world world world worl\n",
      " hello world world world world world world world worl\n",
      " hello world world world world world world world worl\n",
      " hello world world world world world world world worl\n",
      " hello world world world world world world world worl\n",
      " hello world world world world world world world worl\n",
      " hello world world world world world world world worl\n",
      " hello world world world world world world world worl\n",
      " hello world world world world world world world worl\n",
      " hello world world world world world world world worl\n",
      " hello world world world world world world world worl\n",
      " hello world world world world world world world worl\n",
      " hello world world world world world world world worl\n",
      " hello world world world world world world world worl\n",
      " hello world world world world world world world worl\n",
      " hello world world world world world world world worl\n",
      " hello world world world world world world world worl\n",
      " hello world world world world world world world worl\n",
      " hello world world world world world world world worl\n",
      " hello world world world world world world world worl\n",
      " hello world world world world world world world worl\n",
      " hello world world world world world world world worl\n",
      " hello world world world world world world world worl\n",
      " hello world world world world world world world worl\n",
      " hello world world world world world world world worl\n",
      " hello world world world world world world world worl\n",
      " hello world world world world world world world worl\n",
      " hello world world world world world world world worl\n",
      " hello world world world world world world world worl\n",
      " hello world world world world world world world worl\n",
      " hello world world world world world world world worl\n",
      " hello world world world world world world world worl\n",
      " hello world world world world world world world worl\n",
      " hello world world world world world world world worl\n",
      " hello world world world world world world world worl\n",
      " hello world world world world world world world worl\n",
      " hello world world world world world world world worl\n",
      " hello world world world world world world world worl\n",
      " hello world world world world world world world worl\n",
      " hello world world world world world world world worl\n",
      " hello world world world world world world world worl\n",
      " hello world world world world world world world worl\n",
      " hello world world world world world world world worl\n",
      " hello world world world world world world world worl\n",
      " hello world world world world world world world worl\n",
      " hello world world world world world world world worl\n",
      " hello world world world world world world world worl\n"
     ]
    }
   ],
   "source": [
    "optimizer = torch.optim.RMSprop(model.parameters(), 0.001)\n",
    "for epoch in range(500):\n",
    "    model.reset()\n",
    "    model.loss(x_train, y_train).backward()\n",
    "    optimizer.step()\n",
    "    optimizer.zero_grad()\n",
    "\n",
    "    if epoch % 10 == 9:\n",
    "        # Generate characters from the initial characters ' h'\n",
    "        model.reset()\n",
    "        text = ' h'\n",
    "        model.f(torch.tensor([[char_encodings[0]]]))\n",
    "        y = model.f(torch.tensor([[char_encodings[1]]]))\n",
    "        text += index_to_char[y.argmax(1)]\n",
    "        for c in range(50):\n",
    "            y = model.f(torch.tensor([[char_encodings[y.argmax(1)]]]))\n",
    "            text += index_to_char[y.argmax(1)]\n",
    "        print(text)"
   ],
   "metadata": {
    "collapsed": false,
    "pycharm": {
     "name": "#%%\n"
    }
   }
  }
 ],
 "metadata": {
  "kernelspec": {
   "display_name": "Python 3",
   "language": "python",
   "name": "python3"
  },
  "language_info": {
   "codemirror_mode": {
    "name": "ipython",
    "version": 2
   },
   "file_extension": ".py",
   "mimetype": "text/x-python",
   "name": "python",
   "nbconvert_exporter": "python",
   "pygments_lexer": "ipython2",
   "version": "2.7.6"
  }
 },
 "nbformat": 4,
 "nbformat_minor": 0
}