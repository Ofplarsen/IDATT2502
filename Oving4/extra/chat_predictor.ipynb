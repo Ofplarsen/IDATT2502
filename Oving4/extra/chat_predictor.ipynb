{
 "cells": [
  {
   "cell_type": "code",
   "execution_count": 9,
   "metadata": {
    "collapsed": true
   },
   "outputs": [],
   "source": [
    "import string\n",
    "\n",
    "import numpy as np\n",
    "import torch\n",
    "import torch.nn as nn\n",
    "import pandas as pd\n",
    "import random"
   ]
  },
  {
   "cell_type": "code",
   "execution_count": 170,
   "outputs": [],
   "source": [
    "class LongShortTermMemoryModel(nn.Module):\n",
    "    i = 4\n",
    "    def __init__(self, encoding_size):\n",
    "        super(LongShortTermMemoryModel, self).__init__()\n",
    "\n",
    "        self.lstm = nn.LSTM(encoding_size, 128*4)  # 128 is the state size\n",
    "        self.dense = nn.Linear(128*4, encoding_size)  # 128 is the state size\n",
    "\n",
    "    def reset(self):  # Reset states prior to new input sequence\n",
    "        zero_state = torch.zeros(1, 1, 128*4)  # Shape: (number of layers, batch size, state size)\n",
    "        self.hidden_state = zero_state\n",
    "        self.cell_state = zero_state\n",
    "\n",
    "    def logits(self, x):  # x shape: (sequence length, batch size, encoding size)\n",
    "        out, (self.hidden_state, self.cell_state) = self.lstm(x, (self.hidden_state, self.cell_state))\n",
    "        return self.dense(out.reshape(-1, 128*4))\n",
    "\n",
    "    def f(self, x):  # x shape: (sequence length, batch size, encoding size)\n",
    "        return torch.softmax(self.logits(x), dim=1)\n",
    "\n",
    "    def loss(self, x, y):  # x shape: (sequence length, batch size, encoding size), y shape: (sequence length, encoding size)\n",
    "        return nn.functional.cross_entropy(self.logits(x), y.argmax(1))"
   ],
   "metadata": {
    "collapsed": false,
    "pycharm": {
     "name": "#%%\n"
    }
   }
  },
  {
   "cell_type": "code",
   "execution_count": 171,
   "outputs": [
    {
     "name": "stdout",
     "output_type": "stream",
     "text": [
      "['record', 'admit', 'who', 'freeze', 'connect', 'structure', 'Korean', 'hostage', 'veteran', 'square', 'surround', 'offender', 'middle', 'twelve', 'minimize', 'illness', 'courage', 'influence', 'bowl', 'drive', 'factor', 'missile', 'student', 'origin', 'popular', 'sweet', 'weather', 'prayer', 'atmosphere', 'wrist', 'dear', 'night', 'therapy', 'racism', 'idea', 'entrance', 'dynamic', 'bee', 'unemployment', 'dancing', 'campaign', 'republic', 'my']\n"
     ]
    }
   ],
   "source": [
    "words = open('words.csv').read().split()\n",
    "random.shuffle(words)\n",
    "words = words[: int(len(words)/100)]\n",
    "print(words)"
   ],
   "metadata": {
    "collapsed": false,
    "pycharm": {
     "name": "#%%\n"
    }
   }
  },
  {
   "cell_type": "code",
   "execution_count": 172,
   "outputs": [
    {
     "name": "stdout",
     "output_type": "stream",
     "text": [
      "admit \n",
      " dmit \n",
      "who   \n",
      " ho   \n",
      "bowl  \n",
      " owl  \n",
      "drive \n",
      " rive \n",
      "sweet \n",
      " weet \n",
      "wrist \n",
      " rist \n",
      "dear  \n",
      " ear  \n",
      "night \n",
      " ight \n",
      "idea  \n",
      " dea  \n",
      "bee   \n",
      " ee   \n",
      "my    \n",
      " y    \n",
      "torch.Size([11, 6, 1, 32])\n",
      "torch.Size([11, 6, 32])\n"
     ]
    }
   ],
   "source": [
    "##Many to one\n",
    "word_length = 6\n",
    "index_to_char = list(string.ascii_lowercase)\n",
    "index_to_char.append('æ')\n",
    "index_to_char.append('ø')\n",
    "index_to_char.append('å')\n",
    "index_to_char.append(' ')\n",
    "index_to_char.append('-')\n",
    "index_to_char.append('\\'')\n",
    "char_encodings = np.eye(len(index_to_char))\n",
    "\n",
    "encoding_size = len(char_encodings)\n",
    "\n",
    "letter_dict = {index_to_char[i]: i for i in range(0, len(index_to_char))}\n",
    "\n",
    "def letter(x: str):\n",
    "    char = char_encodings[letter_dict[x]]\n",
    "    return char\n",
    "\n",
    "def x_create_word(word: str):\n",
    "\n",
    "    word = word + (' ' * (word_length-len(word)))\n",
    "    print(word)\n",
    "    return_word = []\n",
    "    for i in range(len(word)):\n",
    "        return_word.append([letter(word[i])])\n",
    "    return return_word\n",
    "\n",
    "def y_create_word(word: str):\n",
    "\n",
    "\n",
    "    word = ' ' + word[1:] + (' ' * (word_length-len(word)))\n",
    "    print(word)\n",
    "    return_word = []\n",
    "    for i in range(len(word)):\n",
    "        return_word.append(letter(word[i]))\n",
    "    return return_word\n",
    "\n",
    "def get_words():\n",
    "    x_lst = []\n",
    "    y_lst = []\n",
    "    for i in range(len(words)):\n",
    "        if len(words[i]) < word_length:\n",
    "            x_lst.append(x_create_word(words[i].lower()))\n",
    "            y_lst.append(y_create_word(words[i].lower()))\n",
    "    return x_lst, y_lst\n",
    "\n",
    "x_data, y_data = get_words()\n",
    "x_train = torch.tensor(x_data, dtype=torch.float)\n",
    "y_train = torch.tensor(y_data, dtype=torch.float)\n",
    "\n",
    "model = LongShortTermMemoryModel(encoding_size)\n",
    "print(x_train.shape)\n",
    "print(y_train.shape)"
   ],
   "metadata": {
    "collapsed": false,
    "pycharm": {
     "name": "#%%\n"
    }
   }
  },
  {
   "cell_type": "code",
   "execution_count": 173,
   "outputs": [],
   "source": [
    "optimizer = torch.optim.RMSprop(model.parameters(), 0.001)\n",
    "for epoch in range(500):\n",
    "    for i in range(x_train.size()[0]):#Loops for each letter to emoji\n",
    "        model.reset()\n",
    "        model.loss(x_train[i], y_train[i]).backward()\n",
    "        optimizer.step()\n",
    "        optimizer.zero_grad()"
   ],
   "metadata": {
    "collapsed": false,
    "pycharm": {
     "name": "#%%\n"
    }
   }
  },
  {
   "cell_type": "markdown",
   "source": [],
   "metadata": {
    "collapsed": false
   }
  },
  {
   "cell_type": "code",
   "execution_count": 188,
   "outputs": [
    {
     "name": "stdout",
     "output_type": "stream",
     "text": [
      "2\n",
      "i\n",
      "v\n",
      "e\n",
      " \n",
      "Expected: drive \n"
     ]
    },
    {
     "data": {
      "text/plain": "'drive '"
     },
     "execution_count": 188,
     "metadata": {},
     "output_type": "execute_result"
    }
   ],
   "source": [
    "def get_emoji(emo: str):\n",
    "    y = -1\n",
    "    model.reset()\n",
    "    #for i in range(len(emo)):\n",
    "    # y = model.f(torch.tensor([[char_encodings[1]]], dtype=torch.float))\n",
    "    # text += index_to_char[y.argmax(1)]\n",
    "    text = emo\n",
    "    print(len(text))\n",
    "    for i in range(len(text)):\n",
    "        y = model.f(torch.tensor([[letter(text[i])]], dtype=torch.float))\n",
    "\n",
    "    for i in range(word_length-len(text)):\n",
    "        y = model.f(torch.tensor([[char_encodings[y.argmax(1)]]], dtype=torch.float))\n",
    "        text += index_to_char[y.argmax(1)]\n",
    "    print(\"Expected: \" +text)\n",
    "    return text\n",
    "\n",
    "\n",
    "get_emoji(\"dr\")"
   ],
   "metadata": {
    "collapsed": false,
    "pycharm": {
     "name": "#%%\n"
    }
   }
  }
 ],
 "metadata": {
  "kernelspec": {
   "display_name": "Python 3",
   "language": "python",
   "name": "python3"
  },
  "language_info": {
   "codemirror_mode": {
    "name": "ipython",
    "version": 2
   },
   "file_extension": ".py",
   "mimetype": "text/x-python",
   "name": "python",
   "nbconvert_exporter": "python",
   "pygments_lexer": "ipython2",
   "version": "2.7.6"
  }
 },
 "nbformat": 4,
 "nbformat_minor": 0
}