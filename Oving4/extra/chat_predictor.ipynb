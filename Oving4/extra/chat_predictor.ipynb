{
 "cells": [
  {
   "cell_type": "code",
   "execution_count": 3,
   "metadata": {
    "collapsed": true
   },
   "outputs": [],
   "source": [
    "import string\n",
    "\n",
    "import numpy as np\n",
    "import torch\n",
    "import torch.nn as nn\n",
    "import pandas as pd\n",
    "import random"
   ]
  },
  {
   "cell_type": "code",
   "execution_count": 4,
   "outputs": [],
   "source": [
    "class LongShortTermMemoryModel(nn.Module):\n",
    "\n",
    "    def __init__(self, encoding_size):\n",
    "        super(LongShortTermMemoryModel, self).__init__()\n",
    "\n",
    "        self.lstm = nn.LSTM(encoding_size, 128)  # 128 is the state size\n",
    "        self.dense = nn.Linear(128, encoding_size)  # 128 is the state size\n",
    "\n",
    "    def reset(self):  # Reset states prior to new input sequence\n",
    "        zero_state = torch.zeros(1, 1, 128)  # Shape: (number of layers, batch size, state size)\n",
    "        self.hidden_state = zero_state\n",
    "        self.cell_state = zero_state\n",
    "\n",
    "    def logits(self, x):  # x shape: (sequence length, batch size, encoding size)\n",
    "        out, (self.hidden_state, self.cell_state) = self.lstm(x, (self.hidden_state, self.cell_state))\n",
    "        return self.dense(out.reshape(-1, 128))\n",
    "\n",
    "    def f(self, x):  # x shape: (sequence length, batch size, encoding size)\n",
    "        return torch.softmax(self.logits(x), dim=1)\n",
    "\n",
    "    def loss(self, x, y):  # x shape: (sequence length, batch size, encoding size), y shape: (sequence length, encoding size)\n",
    "        return nn.functional.cross_entropy(self.logits(x), y.argmax(1))"
   ],
   "metadata": {
    "collapsed": false,
    "pycharm": {
     "name": "#%%\n"
    }
   }
  },
  {
   "cell_type": "code",
   "execution_count": 6,
   "outputs": [
    {
     "name": "stdout",
     "output_type": "stream",
     "text": [
      "['web', 'external', 'increasing', 'gentleman', 'article', 'potentially', 'bee', 'practitioner', 'gift', 'outer', 'beginning', 'grip', 'suddenly', 'radiation', 'breakfast', 'mate', 'include', 'pepper', 'isolation', 'road', 'specialize', 'tightly', 'strip', 'wisdom', 'chase', 'away', 'endless', 'manufacturing', 'apparent', 'sibling', 'aim', 'significant', 'coming', 'between', 'gay', 'buck', 'stance', 'costly', 'God', 'calculate', 'wave', 'spell', 'accept']\n"
     ]
    }
   ],
   "source": [
    "words = open('words.csv').read().split()\n",
    "random.shuffle(words)\n",
    "words = words[: int(len(words)/100)]\n",
    "print(words)"
   ],
   "metadata": {
    "collapsed": false,
    "pycharm": {
     "name": "#%%\n"
    }
   }
  },
  {
   "cell_type": "code",
   "execution_count": 11,
   "outputs": [
    {
     "name": "stdout",
     "output_type": "stream",
     "text": [
      "torch.Size([43, 13, 1, 32])\n",
      "torch.Size([43, 13, 32])\n"
     ]
    }
   ],
   "source": [
    "##Many to one\n",
    "word_length = 13\n",
    "index_to_char = list(string.ascii_lowercase)\n",
    "index_to_char.append('æ')\n",
    "index_to_char.append('ø')\n",
    "index_to_char.append('å')\n",
    "index_to_char.append(' ')\n",
    "index_to_char.append('-')\n",
    "index_to_char.append('\\'')\n",
    "char_encodings = np.eye(len(index_to_char))\n",
    "\n",
    "encoding_size = len(char_encodings)\n",
    "\n",
    "letter_dict = {index_to_char[i]: i for i in range(0, len(index_to_char))}\n",
    "\n",
    "def letter(x: str):\n",
    "    char = char_encodings[letter_dict[x]]\n",
    "    return char\n",
    "\n",
    "def x_create_word(word: str):\n",
    "    word = f\"{word:<{word_length}}\"\n",
    "    word = f\"{word:>{word_length}}\"\n",
    "    return_word = []\n",
    "    for i in range(len(word)):\n",
    "        return_word.append([letter(word[i])])\n",
    "    return return_word\n",
    "\n",
    "def y_create_word(word: str):\n",
    "    word = word[1:]\n",
    "    word = f\"{word:<{word_length}}\"\n",
    "    word = f\"{word:>{word_length}}\"\n",
    "    return_word = []\n",
    "    for i in range(len(word)):\n",
    "        return_word.append(letter(word[i]))\n",
    "    return return_word\n",
    "\n",
    "def get_words():\n",
    "    x_lst = []\n",
    "    y_lst = []\n",
    "    for i in range(len(words)):\n",
    "        x_lst.append(x_create_word(words[i].lower()))\n",
    "        y_lst.append(y_create_word(words[i].lower()))\n",
    "    return x_lst, y_lst\n",
    "\n",
    "x_data, y_data = get_words()\n",
    "\n",
    "x_train = torch.tensor(x_data, dtype=torch.float)\n",
    "y_train = torch.tensor(y_data, dtype=torch.float)\n",
    "\n",
    "\n",
    "model = LongShortTermMemoryModel(encoding_size)\n",
    "print(x_train.shape)\n",
    "print(y_train.shape)"
   ],
   "metadata": {
    "collapsed": false,
    "pycharm": {
     "name": "#%%\n"
    }
   }
  },
  {
   "cell_type": "code",
   "execution_count": 12,
   "outputs": [],
   "source": [
    "optimizer = torch.optim.RMSprop(model.parameters(), 0.001)\n",
    "for epoch in range(500):\n",
    "    for i in range(x_train.size()[0]):#Loops for each letter to emoji\n",
    "        model.reset()\n",
    "        model.loss(x_train[i], y_train[i]).backward()\n",
    "        optimizer.step()\n",
    "        optimizer.zero_grad()"
   ],
   "metadata": {
    "collapsed": false,
    "pycharm": {
     "name": "#%%\n"
    }
   }
  },
  {
   "cell_type": "markdown",
   "source": [],
   "metadata": {
    "collapsed": false
   }
  },
  {
   "cell_type": "code",
   "execution_count": 14,
   "outputs": [
    {
     "name": "stdout",
     "output_type": "stream",
     "text": [
      "Expected: wcce         \n"
     ]
    }
   ],
   "source": [
    "def get_emoji(emo: str):\n",
    "    y = -1\n",
    "    model.reset()\n",
    "    text = emo[0]\n",
    "    for i in range(len(emo)):\n",
    "        y = model.f(torch.tensor([[char_encodings[i]]], dtype=torch.float))\n",
    "        text += index_to_char[y.argmax(1)]\n",
    "\n",
    "    for i in range(word_length-len(emo)-1):\n",
    "        y = model.f(torch.tensor([[char_encodings[y.argmax(1)]]], dtype=torch.float))\n",
    "        text += index_to_char[y.argmax(1)]\n",
    "    print(\"Expected: \" +text)\n",
    "\n",
    "\n",
    "get_emoji(\"web\")"
   ],
   "metadata": {
    "collapsed": false,
    "pycharm": {
     "name": "#%%\n"
    }
   }
  }
 ],
 "metadata": {
  "kernelspec": {
   "display_name": "Python 3",
   "language": "python",
   "name": "python3"
  },
  "language_info": {
   "codemirror_mode": {
    "name": "ipython",
    "version": 2
   },
   "file_extension": ".py",
   "mimetype": "text/x-python",
   "name": "python",
   "nbconvert_exporter": "python",
   "pygments_lexer": "ipython2",
   "version": "2.7.6"
  }
 },
 "nbformat": 4,
 "nbformat_minor": 0
}