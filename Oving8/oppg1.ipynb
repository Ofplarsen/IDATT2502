{
 "cells": [
  {
   "cell_type": "code",
   "execution_count": null,
   "outputs": [],
   "source": [
    "#https://medium.com/swlh/using-q-learning-for-openais-cartpole-v1-4a216ef237df"
   ],
   "metadata": {
    "collapsed": false,
    "pycharm": {
     "name": "#%%\n",
     "is_executing": true
    }
   }
  },
  {
   "cell_type": "code",
   "execution_count": null,
   "outputs": [],
   "source": [
    "import gym\n",
    "import numpy as np\n",
    "from sklearn.preprocessing import KBinsDiscretizer\n",
    "import time, math, random\n",
    "from typing import Tuple\n",
    "import matplotlib.pyplot as plt"
   ],
   "metadata": {
    "collapsed": false,
    "pycharm": {
     "name": "#%%\n",
     "is_executing": true
    }
   }
  },
  {
   "cell_type": "markdown",
   "source": [
    "# Q-Learning\n",
    "\n",
    "q(s,a) = q(sa-a) + lr(r+ymaxq(s',a'))\n",
    "ymax: Discount factor (0,1)\n",
    "a': Future action\n",
    "s': Future state"
   ],
   "metadata": {
    "collapsed": false
   }
  },
  {
   "cell_type": "code",
   "execution_count": null,
   "outputs": [],
   "source": [
    "env = gym.make('CartPole-v1')\n",
    "\n",
    "#Q-table\n",
    "#Actions: left - right\n",
    "print(env.action_space.n)"
   ],
   "metadata": {
    "collapsed": false,
    "pycharm": {
     "name": "#%%\n",
     "is_executing": true
    }
   }
  },
  {
   "cell_type": "code",
   "execution_count": null,
   "outputs": [],
   "source": [
    "class CartPoleAgent:\n",
    "    def __init__(self, env, episodes):\n",
    "        self.env = env\n",
    "        # One table: actions * possible angles, second: actions*pole_vels\n",
    "        self.n_bins = (6, 12)\n",
    "        self.q_table = np.zeros(self.n_bins + (env.action_space.n, ))\n",
    "        self.lower_bounds = [env.observation_space.low[2], -math.radians(50)]\n",
    "        self.upper_bounds = [env.observation_space.high[2], -math.radians(50)]\n",
    "        self.lr = 0.1\n",
    "        self.decay = 24\n",
    "        self.discount = 1.0\n",
    "        self.episodes = episodes\n",
    "\n",
    "\n",
    "    def get_discrete(self, state):\n",
    "        _, __, angle, pole_vel = state\n",
    "        est = KBinsDiscretizer(n_bins=self.n_bins, encode='ordinal', strategy='uniform')\n",
    "        est.fit([self.lower_bounds, self.upper_bounds])\n",
    "        return tuple(map(int, est.transform([[angle, pole_vel]])[0]))\n",
    "\n",
    "    def get_policy(self, state):\n",
    "        return np.argmax(self.q_table[state])\n",
    "\n",
    "    #Q function\n",
    "    def update_q_value(self, reward, state, action, new_state):\n",
    "        return self.lr * (reward + self.discount * np.max(self.q_table[new_state]) - self.q_table[state][action])\n",
    "\n",
    "    #Adaptive lr\n",
    "    def get_lr(self, n, min_lr_rate=0.01):\n",
    "        return max(min_lr_rate, min(1.0, 1.0 - math.log10((n+1) / self.decay)))\n",
    "\n",
    "    #Decaying explo rate/epsilon\n",
    "    def get_explo_rate(self, n,min_explo_rate=0.01):\n",
    "        return max(min_explo_rate, min(1.0, 1.0 - math.log10((n+1) / self.decay)))\n",
    "\n",
    "    def update_q_table(self, current_state, action, old_val, learnt_val):\n",
    "        self.q_table[current_state][action] += (1-self.lr) * old_val + self.lr*learnt_val\n",
    "        return self.q_table[current_state][action]\n",
    "\n",
    "    def train(self):\n",
    "        scores = []\n",
    "        for e in range(self.episodes):\n",
    "            current_state = self.get_discrete(env.reset())\n",
    "            self.lr = self.get_lr(e)\n",
    "\n",
    "            done = False\n",
    "            #Tracks how many inputs it survives\n",
    "            score = 0\n",
    "            while not done:\n",
    "                action = self.get_policy(current_state)\n",
    "\n",
    "                #Random action (exploration)\n",
    "                if np.random.random() < self.get_explo_rate(e):\n",
    "                    action = self.env.action_space.sample()\n",
    "\n",
    "                obs, reward, done, _ = self.env.step(action)\n",
    "                new_state = self.get_discrete(obs)\n",
    "\n",
    "                #Gets new q-value\n",
    "                #learnt_value = self.update_q_value(reward, current_state, action, new_state)\n",
    "                self.q_table[current_state][action] += self.update_q_value(reward, current_state, action, new_state)\n",
    "                #Gets old val from q-table\n",
    "\n",
    "                current_state = new_state\n",
    "                score += 1\n",
    "\n",
    "            scores.append(score)\n",
    "\n",
    "        #print(scores)\n",
    "        print(\"Training done!\")\n",
    "        return scores\n",
    "\n",
    "\n",
    "\n"
   ],
   "metadata": {
    "collapsed": false,
    "pycharm": {
     "name": "#%%\n",
     "is_executing": true
    }
   }
  },
  {
   "cell_type": "code",
   "execution_count": null,
   "outputs": [],
   "source": [
    "import warnings\n",
    "warnings.filterwarnings('ignore')\n",
    "model = CartPoleAgent(env, episodes=5000)\n",
    "scores = model.train()\n",
    "\n",
    "\n",
    "#print(model.get_discrete_state())"
   ],
   "metadata": {
    "collapsed": false,
    "pycharm": {
     "name": "#%%\n",
     "is_executing": true
    }
   }
  },
  {
   "cell_type": "code",
   "execution_count": null,
   "outputs": [],
   "source": [
    "print(model.q_table)\n",
    "plt.plot(scores,  c='blue', label='epochs')\n",
    "plt.legend()"
   ],
   "metadata": {
    "collapsed": false,
    "pycharm": {
     "name": "#%%\n",
     "is_executing": true
    }
   }
  }
 ],
 "metadata": {
  "kernelspec": {
   "display_name": "Python 3",
   "language": "python",
   "name": "python3"
  },
  "language_info": {
   "codemirror_mode": {
    "name": "ipython",
    "version": 2
   },
   "file_extension": ".py",
   "mimetype": "text/x-python",
   "name": "python",
   "nbconvert_exporter": "python",
   "pygments_lexer": "ipython2",
   "version": "2.7.6"
  }
 },
 "nbformat": 4,
 "nbformat_minor": 0
}