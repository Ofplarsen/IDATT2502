{
 "cells": [
  {
   "cell_type": "code",
   "execution_count": 2,
   "metadata": {
    "collapsed": true
   },
   "outputs": [],
   "source": [
    "import gym\n",
    "import numpy as np"
   ]
  },
  {
   "cell_type": "markdown",
   "source": [
    "# Q-Learning\n",
    "\n",
    "q(s,a) = q(sa-a) + lr(r+ymaxq(s',a'))\n",
    "ymax: Discount factor (0,1)\n",
    "a': Future action\n",
    "s': Future state"
   ],
   "metadata": {
    "collapsed": false,
    "pycharm": {
     "name": "#%% md\n"
    }
   }
  },
  {
   "cell_type": "code",
   "execution_count": 3,
   "outputs": [
    {
     "name": "stdout",
     "output_type": "stream",
     "text": [
      "2\n"
     ]
    }
   ],
   "source": [
    "env = gym.make('CartPole-v1')\n",
    "\n",
    "lr = 0.1\n",
    "e = 0.1\n",
    "episodes = 60000\n",
    "Observation = [30, 30, 50, 50]\n",
    "np_array_win_size = np.array([0.25, 0.25, 0.01, 0.1])\n",
    "\n",
    "#Q-table\n",
    "#Actions: left - right\n",
    "#\n",
    "print(env.action_space.n)"
   ],
   "metadata": {
    "collapsed": false,
    "pycharm": {
     "name": "#%%\n"
    }
   }
  },
  {
   "cell_type": "code",
   "execution_count": 19,
   "outputs": [],
   "source": [
    "class QLearning:\n",
    "\n",
    "    def __init__(self, env):\n",
    "        self.env = env\n",
    "        self.lr = 0.1\n",
    "        self.e = 0.1\n",
    "        # cart pos, cart vel, pole ang, pole vel\n",
    "        self.obs = [30,30,50,50]\n",
    "        #Creates q-table with random values (from 0-1). It has size 30*30*50*50*2 = states * actions (2)\n",
    "        self.q_table = np.random.uniform(low=0, high = 1, size=(self.obs + [env.action_space.n]))\n",
    "        print(self.q_table.shape)\n",
    "        self.win_size = np.array([0.25, 0.25, 0.01, 0.1])\n",
    "        print(self.win_size.shape)\n",
    "\n",
    "    def q(self, q, s, a, r,lr, y):\n",
    "        return q + lr * ()\n",
    "\n",
    "    #Need to get state as discrete value\n",
    "    def get_discrete_state(self, s):\n",
    "        d_s = s / self.win_size + np.array([15, 10, 1, 10])\n",
    "        return tuple(d_s.astype(int))"
   ],
   "metadata": {
    "collapsed": false,
    "pycharm": {
     "name": "#%%\n"
    }
   }
  },
  {
   "cell_type": "code",
   "execution_count": 29,
   "outputs": [
    {
     "name": "stdout",
     "output_type": "stream",
     "text": [
      "(30, 30, 50, 50, 2)\n",
      "(4,)\n",
      "(27, 22, 321, 42)\n"
     ]
    }
   ],
   "source": [
    "model = QLearning(env)\n",
    "#print(model.get_discrete_state())"
   ],
   "metadata": {
    "collapsed": false,
    "pycharm": {
     "name": "#%%\n"
    }
   }
  }
 ],
 "metadata": {
  "kernelspec": {
   "display_name": "Python 3",
   "language": "python",
   "name": "python3"
  },
  "language_info": {
   "codemirror_mode": {
    "name": "ipython",
    "version": 2
   },
   "file_extension": ".py",
   "mimetype": "text/x-python",
   "name": "python",
   "nbconvert_exporter": "python",
   "pygments_lexer": "ipython2",
   "version": "2.7.6"
  }
 },
 "nbformat": 4,
 "nbformat_minor": 0
}