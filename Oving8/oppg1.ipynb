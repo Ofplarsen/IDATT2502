{
 "cells": [
  {
   "cell_type": "code",
   "execution_count": 8,
   "outputs": [],
   "source": [
    "#https://medium.com/swlh/using-q-learning-for-openais-cartpole-v1-4a216ef237df"
   ],
   "metadata": {
    "collapsed": false,
    "pycharm": {
     "name": "#%%\n"
    }
   }
  },
  {
   "cell_type": "code",
   "execution_count": 9,
   "outputs": [],
   "source": [
    "import gym\n",
    "import numpy as np\n",
    "from sklearn.preprocessing import KBinsDiscretizer\n",
    "import time, math, random\n",
    "from typing import Tuple"
   ],
   "metadata": {
    "collapsed": false,
    "pycharm": {
     "name": "#%%\n"
    }
   }
  },
  {
   "cell_type": "markdown",
   "source": [
    "# Q-Learning\n",
    "\n",
    "q(s,a) = q(sa-a) + lr(r+ymaxq(s',a'))\n",
    "ymax: Discount factor (0,1)\n",
    "a': Future action\n",
    "s': Future state"
   ],
   "metadata": {
    "collapsed": false
   }
  },
  {
   "cell_type": "code",
   "execution_count": 10,
   "outputs": [
    {
     "name": "stdout",
     "output_type": "stream",
     "text": [
      "2\n"
     ]
    }
   ],
   "source": [
    "env = gym.make('CartPole-v1')\n",
    "\n",
    "#Q-table\n",
    "#Actions: left - right\n",
    "print(env.action_space.n)"
   ],
   "metadata": {
    "collapsed": false,
    "pycharm": {
     "name": "#%%\n"
    }
   }
  },
  {
   "cell_type": "code",
   "execution_count": 18,
   "outputs": [],
   "source": [
    "class CartPoleAgent:\n",
    "    def __init__(self, env):\n",
    "        self.env = env\n",
    "        # One table: actions * possible angles, second: actions*pole_vels\n",
    "        self.n_bins = (6, 12)\n",
    "        self.q_table = np.zeros(self.n_bins)\n",
    "        self.lower_bounds = [env.observation_space.low[2], -math.radians(50)]\n",
    "        self.upper_bounds = [env.observation_space.high[2], -math.radians(50)]\n",
    "        self.lr = 0.1\n",
    "        self.decay = 25\n",
    "        self.discount = 1.0\n",
    "        self.episodes = 10000\n",
    "\n",
    "\n",
    "    def get_discrete(self, state):\n",
    "        _, __, angle, pole_vel = state\n",
    "        est = KBinsDiscretizer(n_bins=self.n_bins, encode='ordinal', strategy='uniform')\n",
    "        est.fit([self.lower_bounds, self.upper_bounds])\n",
    "        return tuple(map(int, est.transform([[angle, pole_vel]])[0]))\n",
    "\n",
    "    def get_policy(self, state):\n",
    "        return np.argmax(self.q_table[state])\n",
    "\n",
    "    #Q function\n",
    "    def update_q_value(self, reward, state, action, new_state):\n",
    "        return self.lr * (reward + self.discount * np.max(self.q_table[new_state]) - self.q_table[state][action])\n",
    "\n",
    "    #Adaptive lr\n",
    "    def get_lr(self, n, min_lr_rate=0.01):\n",
    "        return max(min_lr_rate, min(1.0, 1.0 - math.log10((n+1) / self.decay)))\n",
    "\n",
    "    #Decaying explo rate/epsilon\n",
    "    def get_explo_rate(self, n,min_explo_rate=0.01):\n",
    "        return max(min_explo_rate, min(1.0, 1.0 - math.log10((n+1) / self.decay)))\n",
    "\n",
    "    def update_q_table(self, current_state, action, old_val, learnt_val):\n",
    "        self.q_table[current_state][action] = (1-self.lr) * old_val + self.lr*learnt_val\n",
    "        return self.q_table[current_state][action]\n",
    "\n",
    "    def train(self):\n",
    "        scores = []\n",
    "        for e in range(self.episodes):\n",
    "            current_state = self.get_discrete(env.reset())\n",
    "            done = False\n",
    "            #Tracks how many inputs it survives\n",
    "            score = 0\n",
    "            while not done:\n",
    "                action = self.get_policy(current_state)\n",
    "\n",
    "                #Random action (exploration)\n",
    "                if np.random.random() < self.get_explo_rate(e):\n",
    "                    action = self.env.action_space.sample()\n",
    "\n",
    "                obs, reward, done, _ = self.env.step(action)\n",
    "                new_state = self.get_discrete(obs)\n",
    "\n",
    "                self.lr = self.get_lr(e)\n",
    "                #Gets new q-value\n",
    "                learnt_value = self.update_q_value(reward, current_state, action, new_state)\n",
    "                #Gets old val from q-table\n",
    "                old_val = self.q_table[current_state][action]\n",
    "                self.update_q_table(current_state, action, old_val, learnt_value)\n",
    "\n",
    "                current_state = new_state\n",
    "                score += 1\n",
    "\n",
    "            scores.append(score)\n",
    "\n",
    "        print(scores)\n",
    "        print(\"Training done!\")\n",
    "\n",
    "\n",
    "\n"
   ],
   "metadata": {
    "collapsed": false,
    "pycharm": {
     "name": "#%%\n"
    }
   }
  },
  {
   "cell_type": "code",
   "execution_count": 19,
   "outputs": [
    {
     "name": "stderr",
     "output_type": "stream",
     "text": [
      "/home/ofplarsen/anaconda3/envs/Oving1/lib/python3.10/site-packages/sklearn/preprocessing/_discretization.py:257: UserWarning: Feature 1 is constant and will be replaced with 0.\n",
      "  warnings.warn(\n",
      "/home/ofplarsen/anaconda3/envs/Oving1/lib/python3.10/site-packages/sklearn/preprocessing/_discretization.py:257: UserWarning: Feature 1 is constant and will be replaced with 0.\n",
      "  warnings.warn(\n"
     ]
    },
    {
     "ename": "IndexError",
     "evalue": "invalid index to scalar variable.",
     "output_type": "error",
     "traceback": [
      "\u001B[0;31m---------------------------------------------------------------------------\u001B[0m",
      "\u001B[0;31mIndexError\u001B[0m                                Traceback (most recent call last)",
      "Input \u001B[0;32mIn [19]\u001B[0m, in \u001B[0;36m<cell line: 2>\u001B[0;34m()\u001B[0m\n\u001B[1;32m      1\u001B[0m model \u001B[38;5;241m=\u001B[39m CartPoleAgent(env)\n\u001B[0;32m----> 2\u001B[0m \u001B[43mmodel\u001B[49m\u001B[38;5;241;43m.\u001B[39;49m\u001B[43mtrain\u001B[49m\u001B[43m(\u001B[49m\u001B[43m)\u001B[49m\n",
      "Input \u001B[0;32mIn [18]\u001B[0m, in \u001B[0;36mCartPoleAgent.train\u001B[0;34m(self)\u001B[0m\n\u001B[1;32m     57\u001B[0m \u001B[38;5;28mself\u001B[39m\u001B[38;5;241m.\u001B[39mlr \u001B[38;5;241m=\u001B[39m \u001B[38;5;28mself\u001B[39m\u001B[38;5;241m.\u001B[39mget_lr(e)\n\u001B[1;32m     58\u001B[0m \u001B[38;5;66;03m#Gets new q-value\u001B[39;00m\n\u001B[0;32m---> 59\u001B[0m learnt_value \u001B[38;5;241m=\u001B[39m \u001B[38;5;28;43mself\u001B[39;49m\u001B[38;5;241;43m.\u001B[39;49m\u001B[43mupdate_q_value\u001B[49m\u001B[43m(\u001B[49m\u001B[43mreward\u001B[49m\u001B[43m,\u001B[49m\u001B[43m \u001B[49m\u001B[43mcurrent_state\u001B[49m\u001B[43m,\u001B[49m\u001B[43m \u001B[49m\u001B[43maction\u001B[49m\u001B[43m,\u001B[49m\u001B[43m \u001B[49m\u001B[43mnew_state\u001B[49m\u001B[43m)\u001B[49m\n\u001B[1;32m     60\u001B[0m \u001B[38;5;66;03m#Gets old val from q-table\u001B[39;00m\n\u001B[1;32m     61\u001B[0m old_val \u001B[38;5;241m=\u001B[39m \u001B[38;5;28mself\u001B[39m\u001B[38;5;241m.\u001B[39mq_table[current_state][action]\n",
      "Input \u001B[0;32mIn [18]\u001B[0m, in \u001B[0;36mCartPoleAgent.update_q_value\u001B[0;34m(self, reward, state, action, new_state)\u001B[0m\n\u001B[1;32m     25\u001B[0m \u001B[38;5;28;01mdef\u001B[39;00m \u001B[38;5;21mupdate_q_value\u001B[39m(\u001B[38;5;28mself\u001B[39m, reward, state, action, new_state):\n\u001B[0;32m---> 26\u001B[0m     \u001B[38;5;28;01mreturn\u001B[39;00m \u001B[38;5;28mself\u001B[39m\u001B[38;5;241m.\u001B[39mlr \u001B[38;5;241m*\u001B[39m (reward \u001B[38;5;241m+\u001B[39m \u001B[38;5;28mself\u001B[39m\u001B[38;5;241m.\u001B[39mdiscount \u001B[38;5;241m*\u001B[39m np\u001B[38;5;241m.\u001B[39mmax(\u001B[38;5;28mself\u001B[39m\u001B[38;5;241m.\u001B[39mq_table[new_state]) \u001B[38;5;241m-\u001B[39m \u001B[38;5;28;43mself\u001B[39;49m\u001B[38;5;241;43m.\u001B[39;49m\u001B[43mq_table\u001B[49m\u001B[43m[\u001B[49m\u001B[43mstate\u001B[49m\u001B[43m]\u001B[49m\u001B[43m[\u001B[49m\u001B[43maction\u001B[49m\u001B[43m]\u001B[49m)\n",
      "\u001B[0;31mIndexError\u001B[0m: invalid index to scalar variable."
     ]
    }
   ],
   "source": [
    "model = CartPoleAgent(env)\n",
    "model.train()\n",
    "#print(model.get_discrete_state())\n"
   ],
   "metadata": {
    "collapsed": false,
    "pycharm": {
     "name": "#%%\n"
    }
   }
  }
 ],
 "metadata": {
  "kernelspec": {
   "display_name": "Python 3",
   "language": "python",
   "name": "python3"
  },
  "language_info": {
   "codemirror_mode": {
    "name": "ipython",
    "version": 2
   },
   "file_extension": ".py",
   "mimetype": "text/x-python",
   "name": "python",
   "nbconvert_exporter": "python",
   "pygments_lexer": "ipython2",
   "version": "2.7.6"
  }
 },
 "nbformat": 4,
 "nbformat_minor": 0
}